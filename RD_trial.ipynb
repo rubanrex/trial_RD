{
  "nbformat": 4,
  "nbformat_minor": 0,
  "metadata": {
    "colab": {
      "provenance": [],
      "authorship_tag": "ABX9TyMzaYlghtIsVybAF39qPpGP",
      "include_colab_link": true
    },
    "kernelspec": {
      "name": "python3",
      "display_name": "Python 3"
    },
    "language_info": {
      "name": "python"
    }
  },
  "cells": [
    {
      "cell_type": "markdown",
      "metadata": {
        "id": "view-in-github",
        "colab_type": "text"
      },
      "source": [
        "<a href=\"https://colab.research.google.com/github/rubanrex/trial_RD/blob/main/RD_trial.ipynb\" target=\"_parent\"><img src=\"https://colab.research.google.com/assets/colab-badge.svg\" alt=\"Open In Colab\"/></a>"
      ]
    },
    {
      "cell_type": "code",
      "execution_count": null,
      "metadata": {
        "colab": {
          "base_uri": "https://localhost:8080/",
          "height": 162
        },
        "id": "9MzB39LfSrYK",
        "outputId": "1f13af73-c9c0-4c33-f045-233a72737396"
      },
      "outputs": [
        {
          "output_type": "stream",
          "name": "stderr",
          "text": [
            "usage: colab_kernel_launcher.py [-h] --tar-dir TAR_DIR --fasta-dir FASTA_DIR\n",
            "colab_kernel_launcher.py: error: the following arguments are required: --tar-dir, --fasta-dir\n"
          ]
        },
        {
          "output_type": "error",
          "ename": "SystemExit",
          "evalue": "2",
          "traceback": [
            "An exception has occurred, use %tb to see the full traceback.\n",
            "\u001b[0;31mSystemExit\u001b[0m\u001b[0;31m:\u001b[0m 2\n"
          ]
        },
        {
          "output_type": "stream",
          "name": "stderr",
          "text": [
            "/usr/local/lib/python3.10/dist-packages/IPython/core/interactiveshell.py:3561: UserWarning: To exit: use 'exit', 'quit', or Ctrl-D.\n",
            "  warn(\"To exit: use 'exit', 'quit', or Ctrl-D.\", stacklevel=1)\n"
          ]
        }
      ],
      "source": [
        "import argparse\n",
        "import os\n",
        "import platform\n",
        "import subprocess\n",
        "\n",
        "def check_os():\n",
        "    os_name = platform.system().lower()\n",
        "    print(f\"Detected OS: {os_name}\")\n",
        "    if os_name == \"darwin\":\n",
        "        return \"Your OS: Mac\\n• Download Docker for Mac: https://www.docker.com/products/docker-desktop\\n• Ensure Docker is running.\\n• Select the directories and run the program.\"\n",
        "    elif os_name == \"windows\":\n",
        "        return \"Your OS: Windows\\n• Download Docker for Windows: https://www.docker.com/products/docker-desktop\\n• Ensure Docker is running.\\n• Select the directories and run the program.\"\n",
        "    elif os_name == \"linux\":\n",
        "        return \"Your OS: Linux\\n• Ensure Docker is installed and running.\\n• Select the directories and run the program.\"\n",
        "    else:\n",
        "        return \"Unsupported operating system for this script.\"\n",
        "\n",
        "def check_docker_running():\n",
        "    try:\n",
        "        subprocess.run([\"docker\", \"info\"], check=True, stdout=subprocess.DEVNULL, stderr=subprocess.DEVNULL)\n",
        "        return True\n",
        "    except subprocess.CalledProcessError:\n",
        "        return False\n",
        "\n",
        "def prompt_docker_start():\n",
        "    while not check_docker_running():\n",
        "        print(\"Docker does not seem to be running. Please open Docker Desktop.\")\n",
        "        print(\"Waiting for Docker to start...\")\n",
        "    print(\"Docker is now running.\")\n",
        "\n",
        "def find_tar_file(directory):\n",
        "    tar_files = [f for f in os.listdir(directory) if f.endswith('.tar')]\n",
        "    if len(tar_files) == 1:\n",
        "        return os.path.join(directory, tar_files[0])\n",
        "    elif len(tar_files) > 1:\n",
        "        return os.path.join(directory, tar_files[0])  # Simplified selection\n",
        "    else:\n",
        "        return None\n",
        "\n",
        "def load_docker_image(tar_path):\n",
        "    try:\n",
        "        print(f\"Loading Docker image from {tar_path}...\")\n",
        "        subprocess.run([\"docker\", \"load\", \"-i\", tar_path], check=True)\n",
        "        print(\"Docker image loaded successfully.\")\n",
        "        return \"Docker image loaded successfully.\"\n",
        "    except subprocess.CalledProcessError:\n",
        "        print(\"Failed to load Docker image. Ensure Docker is installed and the image path is correct.\")\n",
        "        return \"Failed to load Docker image. Ensure Docker is installed and the image path is correct.\"\n",
        "\n",
        "def run_rd_program(tar_directory, fasta_directory):\n",
        "    os_check_message = check_os()\n",
        "    print(os_check_message)\n",
        "    if \"Unsupported\" in os_check_message:\n",
        "        print(\"Error: Unsupported OS\")\n",
        "        return\n",
        "\n",
        "    if not os.path.isdir(tar_directory):\n",
        "        print(f\"Directory not found: {tar_directory}\")\n",
        "        return\n",
        "\n",
        "    if not os.path.isdir(fasta_directory):\n",
        "        print(f\"Directory not found: {fasta_directory}\")\n",
        "        return\n",
        "\n",
        "    if not check_docker_running():\n",
        "        prompt_docker_start()\n",
        "\n",
        "    tar_path = find_tar_file(tar_directory)\n",
        "    if not tar_path:\n",
        "        print(\"No valid .tar file found or selected.\")\n",
        "        return\n",
        "\n",
        "    load_message = load_docker_image(tar_path)\n",
        "    if \"Failed\" in load_message:\n",
        "        print(load_message)\n",
        "        return\n",
        "\n",
        "    os_name = platform.system().lower()\n",
        "    command = f'''\n",
        "    for fasta_file in {fasta_directory}/*.fasta; do\n",
        "        file=$(basename \"$fasta_file\" .fasta)\n",
        "        docker run --rm -v {fasta_directory}:/mnt/fasta -e LD_LIBRARY_PATH=/app/RepeatDetector/build/external/htslib/src/htslib repeat-detector /usr/local/bin/RepeatDetecter --prf /app/RepeatDetector/Profiles/CAG/Annex10_cag_correctedFreq_notlog_AND_Complete.prf /mnt/fasta/$file.fasta --output-name \"/mnt/fasta/$file.rest\" -o histogram --with-revcomp --cycle-range \\\\[0:500\\\\] --verbose\n",
        "    done\n",
        "    '''\n",
        "\n",
        "    print(\"Running RD program...\")\n",
        "    os.system(command)\n",
        "    print(\"All .fasta files have been processed successfully.\")\n",
        "\n",
        "if __name__ == '__main__':\n",
        "    parser = argparse.ArgumentParser(description=\"Run RD Program\")\n",
        "    parser.add_argument(\"--tar-dir\", required=True, help=\"Directory containing the Docker .tar file\")\n",
        "    parser.add_argument(\"--fasta-dir\", required=True, help=\"Directory containing the FASTA files\")\n",
        "\n",
        "    args = parser.parse_args()\n",
        "    run_rd_program(args.tar_dir, args.fasta_dir)\n",
        "\n"
      ]
    }
  ]
}